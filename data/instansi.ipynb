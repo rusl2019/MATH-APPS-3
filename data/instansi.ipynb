{
 "cells": [
  {
   "cell_type": "code",
   "execution_count": 1,
   "id": "042d60e2",
   "metadata": {},
   "outputs": [],
   "source": [
    "import pandas as pd"
   ]
  },
  {
   "cell_type": "code",
   "execution_count": 2,
   "id": "4200ee2f",
   "metadata": {},
   "outputs": [],
   "source": [
    "df = pd.read_excel(\"Instansi.xlsx\")"
   ]
  },
  {
   "cell_type": "code",
   "execution_count": 6,
   "id": "16e1c765",
   "metadata": {},
   "outputs": [
    {
     "name": "stdout",
     "output_type": "stream",
     "text": [
      "INSERT INTO `pkl_institutions` (`name`, `address`) VALUES\n",
      "('PT Jasa Raharja Kota Malang', 'Jl. Dr. Cipto No. 8, Kec. Klojen Kota Malang, Jawa Timur'),\n",
      "('Kantor Kelurahan Tiru Lor', 'Bolowono, Desa Tiru Lor, Kec. Gurah Kediri'),\n",
      "('PT. Wasa Mitra Engineering', 'Jl. Raya Raya Roomo No. 388 Manyar, Gresik Jawa Timur 61151'),\n",
      "('Dinas Pertanian Kota Serang', 'Jl. Jend. Sudirman No.15, Penancangan, Kec. Serang, Kota Serang, Banten 42124'),\n",
      "('PT Ajiwana Tangguh Nusantara', 'Jl. Pantura No. 53, RT.004/RW.005, Dusun IV, Kaliori, Kec.Kalibagor, Kabupaten Banyumas, Jawa tengah'),\n",
      "('Sekolah Dasar Negeri Sukorejo 1', 'Jl. Manggar No. 57, Sukorejo Blitar Jawa Timur'),\n",
      "('DPRD Kota Samarinda', 'Jl. Basuki Rahmat, Pelabuhan, Samarinda Kalimantan Timur'),\n",
      "('Badan Pusat Statistik (BPS) Kabupaten Malang', 'Jl. Jatirejoyoso No. 1A Dawukan, Jatirejoyoso Kepanjen'),\n",
      "('Kantor Pelayanan Kekayaan Negara', 'Jl. S. Supriadi No. 157, Bandungrejosari, Kec. Sukun, Kota Malang, Jawa Timur'),\n",
      "('Sekretariat Badan Keuangan dan Aset Daerah Kabupaten Malang', 'Jalan Agus Salim No. 7 Kidul Dalem Klojen Malang'),\n",
      "('PT Ambhara Duta Shanti', 'Menara Kartika Chandra, It 1/014 Jl. Jendral Gatot Subroto Kav. 18-20, Karet Semanggi, Setia Budi, RT.8/RW.2, Karet Semanggi, Kota Jakarta Selatan, Daerah Khusus Ibukota Jakarta'),\n",
      "('BPS Kota Jakarta Utara', 'Jl. Berdikari No. 1. Kelurahan Rawa Badak Utara, kecamatan Koja Kota Administrasi Utara'),\n",
      "('PT Dua Empat Tujuh', 'Segitiga Emas Business Park Jalan Profesor Doktor Satrio No Kav.6 Unit 4 &5 Kuningan, Setiabudi Jakarta Selatan'),\n",
      "('Badan Pusat Statistik RI', 'Jl. Dr. Sutomo No 6-8, Ps. Baru, Kec. Sawah Besar, Jakarta Pusat, DKI Jakarta'),\n",
      "('Dinas Komunikasi dan Informatika Kota Malang', 'Jl. Mayjend Sungkono, Arjowinangun Kedungkandang Kota Malang'),\n",
      "('Bank Jatim Kantor Cabang Kota Malang', 'Jl. Jaksa Agung Suprapto 26-28 Kec. Klojen Kota Malang'),\n",
      "('PT. Pegadaian (Persero) Kota Malang', 'Jl. Ade Irma Suryani No.2 Kauman Klojen Malang'),\n",
      "('BPS Kabupaten Mesuji', 'Jl. Raden Intan No. 02, Desa Mukti Karya, Kec. Panca Jaya Mesuji Lampung'),\n",
      "('BPJS Kesehatan Kantor Cabang Tulungagung', 'Jl. Yos. Sudarso No.90, Karangwaru, Kec. Tulungagung Jawa Timur'),\n",
      "('Bank BRI KC Tarakan', 'Jl. Yos Sudarso No. 86 Selumit Pantai Tarakan tengah Kalimantan Utara'),\n",
      "('Badan Pusat Statistik Kabupaten Pasuruan', 'Jl. Sultan Agung No. 42, Purutrejo kec. Purworejo Pasuruan'),\n",
      "('Bank Rakyat Indonesia Cabang Kawi Malang', 'Jl. Kawi No 20-22, Kauman kec. Klojen, Kota Malang'),\n",
      "('BPJS Ketenagakerjaan Pasuruan', 'Jl. Ir. H. Juanda No. 77, Bugul Kidul Kota Pasuruan'),\n",
      "('Badan Pengelolaan Pendapatan Daerah (BAPPENDA) Kabupaten Bogor', 'Jl. Tegar Beriman No.1, Pekansari, Kec.Cibinong Kab. Bogor Jawa Barat'),\n",
      "('Badan Pusat Statistik Kabupaten Malang', 'Jl. Jatirejoyoso No.1A Dawukan Jatirejoyoso Kepanjen Malang'),\n",
      "('Kantor Badan Pengelolaan Keuangan dan Aset Daerah (BPKAD) Kabupaten Nganjuk', 'Jl. Basuki Rahmat No.01 Mangundikaran Nganjuk'),\n",
      "('BPS Kabupaten Banyuwangi', 'Jl. KH. Agus Salim No. 87 Mojopanggung Banyuwangi'),\n",
      "('BSI KCP Soekarno Hatta Malang', 'Jl. Soekarno Hatta, Ruko Taman Niaga B15, B16, B17 dan S12 Kel. Jatimulyo Lowokwaru Malang'),\n",
      "('PT. Anara Trisakti Medika', 'Jl. Pondok Raya Duren Sawit, Jakarta Timur'),\n",
      "('Badan Pusat Statistik (BPS) Kota Jakarta Timur', 'Jl. Cipinang Baru Raya No. 214 Cipinang, Pulogadung Jakarta Timur'),\n",
      "('OJK Purwokerto', 'Jl. Jend. Gatot Subroto No. 46, Purwokerto Sokanegara Banyumas'),\n",
      "('Badan Pusat Statistik (BPS) Kota Malang', 'Jl. Janti Barat No. 47, Bandungrejosari, Kec Sukun, Kota Malang'),\n",
      "('Dinas Komunikasi da Informatika Kota Malang', 'Jl. Mayjend Sungkono, Arjowinangun Kedungkandang Kota Malang'),\n",
      "('PT. Asuransi Tugu Pratama Indonesia', 'Jl. H.R Rasuna Sa’id Kav. C8-9 Jakarta Selatan'),\n",
      "('BPS Jakarta Timur', 'Jl. Cipinang Baru Raya Bo. 14 RT.02 RW.18 Cipinang Kec. Pulogadung Jakarta Timur'),\n",
      "('Badan Pusat Statistik Kabupaten Tuban', 'Jl. Raya Manunggal No. 8 Sukolilo, Panyuran Tuban'),\n",
      "('PT Toyota Astra Financial Services', 'Astra Biz Center Jl BSD Raya Utama No 22, Tangerang, Banten 15331,'),\n",
      "('BPS Provinsi Bali', 'Jl. Raya Puputan No. 1 Renon, Denpasar Selatan, Kota Denpasar, Bali'),\n",
      "('Badan Pusat Statistik Provinsi Jawa Barat', 'Jl. PHH. Mustofa No. 34 Bandung, Jawa Barat'),\n",
      "('Kantor Pengawasan dan Pelayanan Bea dan Cukai TMP Belawan Medan', 'Jl. Anggada II No. 1, Kota Belawan, Medan'),\n",
      "('PT. Jasa Raharja Cabang Bali', 'Jl. Hayam Wuruk No.202, Panjer, Denpasar Selatan, Kota Denpasar, Bal'),\n",
      "('PT. Jasa Raharja Malang', 'Jl. Dr. Cipto No. 8, Kec. Klojen, Kota Malang, Jawa Timur'),\n",
      "('PT. Taspen Kota Malang', 'Jl. Raden Intan, Kec. Blimbing, Kota Malang, Jawa Timur'),\n",
      "('BPJS Ketenagakerjaan Kota Malang', 'Jl. Dr. Sutomo No. 1, RW.01, Klojen Kota Malang'),\n",
      "('PT. Jasa Raharja Cabang Utama Jawa Timur', 'Jalan Diponegoro No.98, RT.002/RW.15, DR. Soetomo, Kec. Tegalsari, Kota Surabaya, Jawa Timur'),\n",
      "('Bank Syariah Indonesia KCP Kalianda Lampung', 'Jl. Raden Intan No. 255 E-F-G Kalianda Lampung Selatan'),\n",
      "('BPJS Kesehatan Cabang Denpasar', 'Jl. Panjaitan No. 6, Panjer Denpasar Selatan, Kota Denpasar Bali'),\n",
      "('MPM Insurance', 'Jl. Panjang No. 5 RT.11/RW.10 Kebonjeruk Jakarta Barat'),\n",
      "('BPJS Ketenagakerjaan Kabupaten Gresik', 'Jl. DR. Wahidin Sudiro Husodo No. 121A, Kebomas, Ngipik, Kec. Gresik, Kabupaten Gresik Jawa Timur'),\n",
      "('PT. BPR Rakyat Kawan', 'Jl. Raya Jetis No. 105, Kec.Dau , Malang'),\n",
      "('Biro Kepegawaian DPR RI', 'Jl. Gatot Subroto No. 1 RT.01/RW03 Senayan, Kecamatan Tanah Abang Kota Jakarta Pusat, DKI'),\n",
      "('KPU Kota Malang', 'Jl. Bantaran No. 6 Malang'),\n",
      "('Phintraco Sekuritas', 'Jl. Dr. Ide Anak Agung Gde Agung Kav. E3.2 No.1 Mega Kuningan Jakarta'),\n",
      "('Badan Pusat Statistik Republik Indonesia', 'Jalan Dr. Sutomo No. 6-8, Ps. Baru, Kecamatan Sawah Besar'),\n",
      "('Badan Pusat Statistik (BPS) Kabupaten Kutai Timur', 'Pusat Perkantoran Sekretariat Daerah Kabupaten Kutai Timur, Bukit Pelangi Sangatta, Kabupaten Kutai Timur'),\n",
      "('Jasa Raharja Pekanbaru', 'Jl. Jend. Sudirman No. 285, Pekanbaru'),\n",
      "('Badan Pusat Statistik Kabupaten Banyuwangi', 'Jl. K.H Agus Salim No. 87 Banyuwangi, Jawa Timur'),\n",
      "('BPJS Ketenagakerjaan Cabang Kota Surakarta', 'di Jl. Bhayangkara Nomor 30, Panularan Laweyan'),\n",
      "('Bank BTN KCP Kota Malang', 'Jl. Ade Irma Suryani No. 2, Kauman, Kota Malang'),\n",
      "('Bank BNI KCP Kota Malang', 'Jalan Veteran No. 16, Ketawanggede, Kecamatan Lowokwaru, Kota Malang');\n"
     ]
    }
   ],
   "source": [
    "values_list = []\n",
    "for index, row in df.iterrows():\n",
    "    values_list.append(f\"('{row['Tempat PKL']}', '{row['Alamat']}')\")\n",
    "\n",
    "insert_sql = \"INSERT INTO `pkl_institutions` (`name`, `address`) VALUES\\n\"\n",
    "insert_sql += \",\\n\".join(values_list) + \";\"\n",
    "print(insert_sql)"
   ]
  },
  {
   "cell_type": "code",
   "execution_count": null,
   "id": "dae929bc",
   "metadata": {},
   "outputs": [],
   "source": []
  }
 ],
 "metadata": {
  "kernelspec": {
   "display_name": "base",
   "language": "python",
   "name": "python3"
  },
  "language_info": {
   "codemirror_mode": {
    "name": "ipython",
    "version": 3
   },
   "file_extension": ".py",
   "mimetype": "text/x-python",
   "name": "python",
   "nbconvert_exporter": "python",
   "pygments_lexer": "ipython3",
   "version": "3.12.8"
  }
 },
 "nbformat": 4,
 "nbformat_minor": 5
}
