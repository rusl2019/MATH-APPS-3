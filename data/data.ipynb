{
 "cells": [
  {
   "cell_type": "code",
   "execution_count": null,
   "id": "0e72cad3",
   "metadata": {},
   "outputs": [],
   "source": [
    "import pandas as pd"
   ]
  },
  {
   "cell_type": "code",
   "execution_count": null,
   "id": "512ff14a",
   "metadata": {},
   "outputs": [],
   "source": [
    "df = pd.read_excel('Mahasiswa.xlsx')"
   ]
  },
  {
   "cell_type": "code",
   "execution_count": null,
   "id": "fa20988e",
   "metadata": {},
   "outputs": [],
   "source": [
    "list_study_programs = {\n",
    "    \"matematika\": 1,\n",
    "    \"statistika\": 2,\n",
    "    \"aktuaria\": 3\n",
    "}"
   ]
  },
  {
   "cell_type": "code",
   "execution_count": null,
   "id": "e8fe1f0a",
   "metadata": {},
   "outputs": [],
   "source": [
    "def escape_sql_string(value):\n",
    "    if pd.isna(value):\n",
    "        return 'NULL'\n",
    "    \n",
    "    value = str(value)\n",
    "    value = value.replace(\"'\", \"''\")\n",
    "    value = value.replace(\"\\\\\", \"\\\\\\\\\")\n",
    "    return f\"'{value}'\"\n",
    "\n",
    "values_list = []\n",
    "for index, row in df.iterrows():\n",
    "    nim = escape_sql_string(row['nim'])\n",
    "    email = escape_sql_string(row['email'])\n",
    "    nama = escape_sql_string(row['nama'])\n",
    "    \n",
    "    prodi_name = str(row['prodi']).lower().strip()\n",
    "    prodi_id = list_study_programs.get(prodi_name, 1)\n",
    "    \n",
    "    values_list.append(f\"({nim}, {email}, {nama}, {prodi_id})\")\n",
    "\n",
    "insert_sql = \"INSERT INTO `students` (`id`, `email`, `name`, `study_program_id`) VALUES\\n\"\n",
    "insert_sql += \",\\n\".join(values_list) + \";\"\n",
    "print(insert_sql)"
   ]
  },
  {
   "cell_type": "code",
   "execution_count": null,
   "id": "48f18a52",
   "metadata": {},
   "outputs": [],
   "source": [
    "values_list = []\n",
    "for index, row in df.iterrows():\n",
    "    nim = escape_sql_string(row['nim'])\n",
    "    values_list.append(f\"({nim}, 2)\")\n",
    "\n",
    "insert_sql = \"INSERT INTO `user_roles` (`user_id`, `role_id`) VALUES\\n\"\n",
    "insert_sql += \",\\n\".join(values_list) + \";\"\n",
    "print(insert_sql)"
   ]
  },
  {
   "cell_type": "code",
   "execution_count": null,
   "id": "84965369",
   "metadata": {},
   "outputs": [],
   "source": []
  }
 ],
 "metadata": {
  "kernelspec": {
   "display_name": "base",
   "language": "python",
   "name": "python3"
  },
  "language_info": {
   "codemirror_mode": {
    "name": "ipython",
    "version": 3
   },
   "file_extension": ".py",
   "mimetype": "text/x-python",
   "name": "python",
   "nbconvert_exporter": "python",
   "pygments_lexer": "ipython3",
   "version": "3.13.5"
  }
 },
 "nbformat": 4,
 "nbformat_minor": 5
}
